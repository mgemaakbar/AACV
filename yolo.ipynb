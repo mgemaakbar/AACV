{
  "cells": [
    {
      "cell_type": "markdown",
      "metadata": {
        "id": "b4NlLnd-_7HP"
      },
      "source": [
        "# Data Preparation"
      ]
    },
    {
      "cell_type": "code",
      "execution_count": null,
      "metadata": {
        "colab": {
          "base_uri": "https://localhost:8080/"
        },
        "id": "mbO9yov1FY7W",
        "outputId": "982b3c67-1b9c-419d-f8ff-6adff4bccd21"
      },
      "outputs": [
        {
          "name": "stdout",
          "output_type": "stream",
          "text": [
            "Mounted at /content/drive\n"
          ]
        }
      ],
      "source": [
        "from google.colab import drive # the real images data files take too long (about 17 minutes) to be downloaded, so we just mount it\n",
        "drive.mount('/content/drive')"
      ]
    },
    {
      "cell_type": "code",
      "execution_count": null,
      "metadata": {
        "id": "wsh02yDKJyN1"
      },
      "outputs": [],
      "source": [
        "!tar -xzf /content/drive/MyDrive/nuimages/nuimages-v1.0-all-metadata.tgz && tar -xzf /content/drive/MyDrive/nuimages/nuimages-v1.0-all-samples.tgz # extract. this will take about 7 minutes"
      ]
    },
    {
      "cell_type": "code",
      "execution_count": null,
      "metadata": {
        "id": "CB-rhXD_6PcX"
      },
      "outputs": [],
      "source": [
        "drive.flush_and_unmount()"
      ]
    },
    {
      "cell_type": "code",
      "execution_count": null,
      "metadata": {
        "id": "-At_o_8YsOdO"
      },
      "outputs": [],
      "source": [
        "!rm -rf train/ test/ val/ train.txt test.txt val.txt # remove old files to start clean"
      ]
    },
    {
      "cell_type": "code",
      "execution_count": null,
      "metadata": {
        "id": "-idcf2kQgin0"
      },
      "outputs": [],
      "source": [
        "!mkdir train test val && mkdir train/images test/images val/images train/labels test/labels val/labels # for the yolo format"
      ]
    },
    {
      "cell_type": "code",
      "execution_count": null,
      "metadata": {
        "id": "zrYkgnkaj8Gf"
      },
      "outputs": [],
      "source": [
        "import sys\n",
        "sys.path.append('/content/') # path where data_preparation.py is\n",
        "\n",
        "# import importlib # use this if you make changes to the data_preparation.py and want to reflect the changes in the notebook\n",
        "# importlib.reload(data_preparation)\n",
        "\n",
        "import data_preparation"
      ]
    },
    {
      "cell_type": "code",
      "execution_count": null,
      "metadata": {
        "id": "YHSiictb7ZdK"
      },
      "outputs": [],
      "source": [
        "test_df = data_preparation.get_test_set('/content/v1.0-test/', percent = 100, random_sample=False)\n",
        "data_preparation.create_image_filename_list_txt('test', test_df)"
      ]
    },
    {
      "cell_type": "code",
      "execution_count": null,
      "metadata": {
        "id": "Td34IZGh8NTx"
      },
      "outputs": [],
      "source": [
        "# make sure the test.txt exists before running this\n",
        "# copy the test image to directory expected by yolo. should take about 1 minute for the entire dataset\n",
        "!xargs -a test.txt -P8 -I{} cp \"/content/{}\" /content/test/images/"
      ]
    },
    {
      "cell_type": "code",
      "execution_count": null,
      "metadata": {
        "id": "3wWFMFKrlAwI"
      },
      "outputs": [],
      "source": [
        "train_df, val_df, class_list = data_preparation.get_df_and_class_list('/content/', 100, 100, train_random_sample=False, val_random_sample=False, class_type = \"category_and_attribute\")"
      ]
    },
    {
      "cell_type": "code",
      "execution_count": null,
      "metadata": {
        "colab": {
          "base_uri": "https://localhost:8080/"
        },
        "id": "pZONA8mgbowc",
        "outputId": "82b1cbe5-f2b2-4588-c140-de3b0afeb296"
      },
      "outputs": [
        {
          "data": {
            "text/plain": [
              "['animal',\n",
              " 'animal+pedestrian.moving+vertical_position.off_ground',\n",
              " 'animal+pedestrian.moving+vertical_position.on_ground',\n",
              " 'animal+pedestrian.sitting_lying_down+vertical_position.off_ground',\n",
              " 'animal+pedestrian.sitting_lying_down+vertical_position.on_ground',\n",
              " 'animal+pedestrian.standing+vertical_position.off_ground',\n",
              " 'animal+pedestrian.standing+vertical_position.on_ground',\n",
              " 'human.pedestrian.adult',\n",
              " 'human.pedestrian.adult+pedestrian.moving',\n",
              " 'human.pedestrian.adult+pedestrian.moving+vertical_position.on_ground',\n",
              " 'human.pedestrian.adult+pedestrian.sitting_lying_down',\n",
              " 'human.pedestrian.adult+pedestrian.standing',\n",
              " 'human.pedestrian.child',\n",
              " 'human.pedestrian.child+pedestrian.moving',\n",
              " 'human.pedestrian.child+pedestrian.sitting_lying_down',\n",
              " 'human.pedestrian.child+pedestrian.standing',\n",
              " 'human.pedestrian.construction_worker',\n",
              " 'human.pedestrian.construction_worker+pedestrian.moving',\n",
              " 'human.pedestrian.construction_worker+pedestrian.sitting_lying_down',\n",
              " 'human.pedestrian.construction_worker+pedestrian.standing',\n",
              " 'human.pedestrian.personal_mobility',\n",
              " 'human.pedestrian.personal_mobility+cycle.with_rider',\n",
              " 'human.pedestrian.personal_mobility+cycle.without_rider',\n",
              " 'human.pedestrian.police_officer+pedestrian.moving',\n",
              " 'human.pedestrian.police_officer+pedestrian.sitting_lying_down',\n",
              " 'human.pedestrian.police_officer+pedestrian.standing',\n",
              " 'human.pedestrian.stroller',\n",
              " 'human.pedestrian.wheelchair',\n",
              " 'movable_object.barrier',\n",
              " 'movable_object.debris',\n",
              " 'movable_object.pushable_pullable',\n",
              " 'movable_object.trafficcone',\n",
              " 'static_object.bicycle_rack',\n",
              " 'vehicle.bicycle',\n",
              " 'vehicle.bicycle+cycle.with_rider',\n",
              " 'vehicle.bicycle+cycle.without_rider',\n",
              " 'vehicle.bus.bendy',\n",
              " 'vehicle.bus.bendy+vehicle.moving',\n",
              " 'vehicle.bus.bendy+vehicle.parked',\n",
              " 'vehicle.bus.bendy+vehicle.stopped',\n",
              " 'vehicle.bus.rigid+vehicle.moving',\n",
              " 'vehicle.bus.rigid+vehicle.parked',\n",
              " 'vehicle.bus.rigid+vehicle.stopped',\n",
              " 'vehicle.car',\n",
              " 'vehicle.car+vehicle.moving',\n",
              " 'vehicle.car+vehicle.parked',\n",
              " 'vehicle.car+vehicle.stopped',\n",
              " 'vehicle.car+vehicle_light.emergency.not_flashing+vehicle.moving',\n",
              " 'vehicle.construction',\n",
              " 'vehicle.construction+vehicle.moving',\n",
              " 'vehicle.construction+vehicle.parked',\n",
              " 'vehicle.construction+vehicle.stopped',\n",
              " 'vehicle.ego',\n",
              " 'vehicle.ego+vehicle.moving',\n",
              " 'vehicle.ego+vehicle.stopped',\n",
              " 'vehicle.emergency.ambulance+vehicle.stopped+vehicle_light.emergency.not_flashing',\n",
              " 'vehicle.emergency.ambulance+vehicle_light.emergency.flashing+vehicle.moving',\n",
              " 'vehicle.emergency.ambulance+vehicle_light.emergency.flashing+vehicle.parked',\n",
              " 'vehicle.emergency.ambulance+vehicle_light.emergency.flashing+vehicle.stopped',\n",
              " 'vehicle.emergency.ambulance+vehicle_light.emergency.not_flashing+vehicle.moving',\n",
              " 'vehicle.emergency.ambulance+vehicle_light.emergency.not_flashing+vehicle.parked',\n",
              " 'vehicle.emergency.police+vehicle.stopped+vehicle_light.emergency.not_flashing',\n",
              " 'vehicle.emergency.police+vehicle_light.emergency.flashing+vehicle.moving',\n",
              " 'vehicle.emergency.police+vehicle_light.emergency.flashing+vehicle.parked',\n",
              " 'vehicle.emergency.police+vehicle_light.emergency.flashing+vehicle.stopped',\n",
              " 'vehicle.emergency.police+vehicle_light.emergency.not_flashing+vehicle.moving',\n",
              " 'vehicle.emergency.police+vehicle_light.emergency.not_flashing+vehicle.parked',\n",
              " 'vehicle.motorcycle',\n",
              " 'vehicle.motorcycle+cycle.with_rider',\n",
              " 'vehicle.motorcycle+cycle.without_rider',\n",
              " 'vehicle.trailer',\n",
              " 'vehicle.trailer+vehicle.moving',\n",
              " 'vehicle.trailer+vehicle.parked',\n",
              " 'vehicle.trailer+vehicle.stopped',\n",
              " 'vehicle.truck',\n",
              " 'vehicle.truck+vehicle.moving',\n",
              " 'vehicle.truck+vehicle.parked',\n",
              " 'vehicle.truck+vehicle.stopped',\n",
              " 'vehicle.truck+vehicle_light.emergency.not_flashing+vehicle.parked']"
            ]
          },
          "execution_count": 7,
          "metadata": {},
          "output_type": "execute_result"
        }
      ],
      "source": [
        "class_list"
      ]
    },
    {
      "cell_type": "code",
      "execution_count": null,
      "metadata": {
        "id": "N-CPubGQTR8e"
      },
      "outputs": [],
      "source": [
        "# NOTE: do NOT run df_to_yolo_format_txt to mounted Drive directory, it's slow. Avoid read/writes to mounted Drive directory\n",
        "data_preparation.create_image_filename_list_txt('train', train_df)\n",
        "data_preparation.create_image_filename_list_txt('val', val_df)"
      ]
    },
    {
      "cell_type": "code",
      "execution_count": null,
      "metadata": {
        "id": "K8Jtv-iwk_3x"
      },
      "outputs": [],
      "source": [
        "data_preparation.df_to_yolo_format_txt('/content/', 'train', class_list,train_df)\n",
        "data_preparation.df_to_yolo_format_txt('/content/', 'val', class_list, val_df)"
      ]
    },
    {
      "cell_type": "code",
      "execution_count": null,
      "metadata": {
        "id": "_hIU4jLuhNgg"
      },
      "outputs": [],
      "source": [
        "data_preparation.create_data_yml('/content/',class_list)"
      ]
    },
    {
      "cell_type": "code",
      "execution_count": null,
      "metadata": {
        "id": "d0NYNGBBhMKV"
      },
      "outputs": [],
      "source": [
        "# make sure the val.txt exists before running this\n",
        "# copy the val image to directory expected by yolo. should take about 1 minute for the entire dataset\n",
        "!xargs -a val.txt -P8 -I{} cp \"/content/{}\" /content/val/images/"
      ]
    },
    {
      "cell_type": "code",
      "execution_count": null,
      "metadata": {
        "id": "IjXD2rRkixcr"
      },
      "outputs": [],
      "source": [
        "# make sure the train.txt exists before running this\n",
        "# copy the train image to directory expected by yolo. should take about 5 minutes for the entire dataset\n",
        "!xargs -a train.txt -P8 -I{} cp \"/content/{}\" /content/train/images/"
      ]
    },
    {
      "cell_type": "code",
      "execution_count": null,
      "metadata": {
        "colab": {
          "base_uri": "https://localhost:8080/",
          "height": 241
        },
        "id": "VgnYFY6ILXtU",
        "outputId": "869eb496-9a00-4383-9a87-a33935a7f180"
      },
      "outputs": [
        {
          "data": {
            "text/html": [
              "<div>\n",
              "<style scoped>\n",
              "    .dataframe tbody tr th:only-of-type {\n",
              "        vertical-align: middle;\n",
              "    }\n",
              "\n",
              "    .dataframe tbody tr th {\n",
              "        vertical-align: top;\n",
              "    }\n",
              "\n",
              "    .dataframe thead th {\n",
              "        text-align: right;\n",
              "    }\n",
              "</style>\n",
              "<table border=\"1\" class=\"dataframe\">\n",
              "  <thead>\n",
              "    <tr style=\"text-align: right;\">\n",
              "      <th></th>\n",
              "      <th>filename</th>\n",
              "    </tr>\n",
              "  </thead>\n",
              "  <tbody>\n",
              "    <tr>\n",
              "      <th>0</th>\n",
              "      <td>samples/CAM_BACK_RIGHT/n009-2018-05-08-15-52-4...</td>\n",
              "    </tr>\n",
              "    <tr>\n",
              "      <th>1</th>\n",
              "      <td>samples/CAM_BACK/n016-2018-09-10-11-01-25+0800...</td>\n",
              "    </tr>\n",
              "    <tr>\n",
              "      <th>2</th>\n",
              "      <td>samples/CAM_BACK_LEFT/n016-2018-07-02-11-25-51...</td>\n",
              "    </tr>\n",
              "    <tr>\n",
              "      <th>3</th>\n",
              "      <td>samples/CAM_FRONT_RIGHT/n015-2018-09-05-11-47-...</td>\n",
              "    </tr>\n",
              "    <tr>\n",
              "      <th>4</th>\n",
              "      <td>samples/CAM_FRONT_LEFT/n008-2018-06-04-16-30-0...</td>\n",
              "    </tr>\n",
              "  </tbody>\n",
              "</table>\n",
              "</div><br><label><b>dtype:</b> object</label>"
            ],
            "text/plain": [
              "0    samples/CAM_BACK_RIGHT/n009-2018-05-08-15-52-4...\n",
              "1    samples/CAM_BACK/n016-2018-09-10-11-01-25+0800...\n",
              "2    samples/CAM_BACK_LEFT/n016-2018-07-02-11-25-51...\n",
              "3    samples/CAM_FRONT_RIGHT/n015-2018-09-05-11-47-...\n",
              "4    samples/CAM_FRONT_LEFT/n008-2018-06-04-16-30-0...\n",
              "Name: filename, dtype: object"
            ]
          },
          "execution_count": 15,
          "metadata": {},
          "output_type": "execute_result"
        }
      ],
      "source": [
        "train_df['filename'].head()"
      ]
    },
    {
      "cell_type": "markdown",
      "metadata": {
        "id": "C23QPiOAUprc"
      },
      "source": []
    },
    {
      "cell_type": "code",
      "execution_count": null,
      "metadata": {
        "colab": {
          "base_uri": "https://localhost:8080/"
        },
        "id": "oFUfnDRtUqZ9",
        "outputId": "5038cc57-b14e-4ba3-c3a8-49415d57b3d0"
      },
      "outputs": [
        {
          "name": "stdout",
          "output_type": "stream",
          "text": [
            "14884\n"
          ]
        }
      ],
      "source": [
        "!ls -1 /content/val/images/ | wc -l"
      ]
    },
    {
      "cell_type": "code",
      "execution_count": null,
      "metadata": {
        "colab": {
          "base_uri": "https://localhost:8080/"
        },
        "id": "vglG7o_-Usbt",
        "outputId": "88a2c23a-e932-49b2-df04-c436bba0f47f"
      },
      "outputs": [
        {
          "name": "stdout",
          "output_type": "stream",
          "text": [
            "14884\n"
          ]
        }
      ],
      "source": [
        "!ls -1 /content/val/labels/ | wc -l"
      ]
    },
    {
      "cell_type": "code",
      "execution_count": null,
      "metadata": {
        "colab": {
          "base_uri": "https://localhost:8080/"
        },
        "id": "5TjjMcewy8Hi",
        "outputId": "1a6ab74b-fd8b-49b1-d2c6-73e4bc790395"
      },
      "outputs": [
        {
          "name": "stdout",
          "output_type": "stream",
          "text": [
            "Collecting ultralytics\n",
            "  Downloading ultralytics-8.3.161-py3-none-any.whl.metadata (37 kB)\n",
            "Requirement already satisfied: numpy>=1.23.0 in /usr/local/lib/python3.11/dist-packages (from ultralytics) (2.0.2)\n",
            "Requirement already satisfied: matplotlib>=3.3.0 in /usr/local/lib/python3.11/dist-packages (from ultralytics) (3.10.0)\n",
            "Requirement already satisfied: opencv-python>=4.6.0 in /usr/local/lib/python3.11/dist-packages (from ultralytics) (4.11.0.86)\n",
            "Requirement already satisfied: pillow>=7.1.2 in /usr/local/lib/python3.11/dist-packages (from ultralytics) (11.2.1)\n",
            "Requirement already satisfied: pyyaml>=5.3.1 in /usr/local/lib/python3.11/dist-packages (from ultralytics) (6.0.2)\n",
            "Requirement already satisfied: requests>=2.23.0 in /usr/local/lib/python3.11/dist-packages (from ultralytics) (2.32.3)\n",
            "Requirement already satisfied: scipy>=1.4.1 in /usr/local/lib/python3.11/dist-packages (from ultralytics) (1.15.3)\n",
            "Requirement already satisfied: torch>=1.8.0 in /usr/local/lib/python3.11/dist-packages (from ultralytics) (2.6.0+cu124)\n",
            "Requirement already satisfied: torchvision>=0.9.0 in /usr/local/lib/python3.11/dist-packages (from ultralytics) (0.21.0+cu124)\n",
            "Requirement already satisfied: tqdm>=4.64.0 in /usr/local/lib/python3.11/dist-packages (from ultralytics) (4.67.1)\n",
            "Requirement already satisfied: psutil in /usr/local/lib/python3.11/dist-packages (from ultralytics) (5.9.5)\n",
            "Requirement already satisfied: py-cpuinfo in /usr/local/lib/python3.11/dist-packages (from ultralytics) (9.0.0)\n",
            "Requirement already satisfied: pandas>=1.1.4 in /usr/local/lib/python3.11/dist-packages (from ultralytics) (2.2.2)\n",
            "Collecting ultralytics-thop>=2.0.0 (from ultralytics)\n",
            "  Downloading ultralytics_thop-2.0.14-py3-none-any.whl.metadata (9.4 kB)\n",
            "Requirement already satisfied: contourpy>=1.0.1 in /usr/local/lib/python3.11/dist-packages (from matplotlib>=3.3.0->ultralytics) (1.3.2)\n",
            "Requirement already satisfied: cycler>=0.10 in /usr/local/lib/python3.11/dist-packages (from matplotlib>=3.3.0->ultralytics) (0.12.1)\n",
            "Requirement already satisfied: fonttools>=4.22.0 in /usr/local/lib/python3.11/dist-packages (from matplotlib>=3.3.0->ultralytics) (4.58.4)\n",
            "Requirement already satisfied: kiwisolver>=1.3.1 in /usr/local/lib/python3.11/dist-packages (from matplotlib>=3.3.0->ultralytics) (1.4.8)\n",
            "Requirement already satisfied: packaging>=20.0 in /usr/local/lib/python3.11/dist-packages (from matplotlib>=3.3.0->ultralytics) (24.2)\n",
            "Requirement already satisfied: pyparsing>=2.3.1 in /usr/local/lib/python3.11/dist-packages (from matplotlib>=3.3.0->ultralytics) (3.2.3)\n",
            "Requirement already satisfied: python-dateutil>=2.7 in /usr/local/lib/python3.11/dist-packages (from matplotlib>=3.3.0->ultralytics) (2.9.0.post0)\n",
            "Requirement already satisfied: pytz>=2020.1 in /usr/local/lib/python3.11/dist-packages (from pandas>=1.1.4->ultralytics) (2025.2)\n",
            "Requirement already satisfied: tzdata>=2022.7 in /usr/local/lib/python3.11/dist-packages (from pandas>=1.1.4->ultralytics) (2025.2)\n",
            "Requirement already satisfied: charset-normalizer<4,>=2 in /usr/local/lib/python3.11/dist-packages (from requests>=2.23.0->ultralytics) (3.4.2)\n",
            "Requirement already satisfied: idna<4,>=2.5 in /usr/local/lib/python3.11/dist-packages (from requests>=2.23.0->ultralytics) (3.10)\n",
            "Requirement already satisfied: urllib3<3,>=1.21.1 in /usr/local/lib/python3.11/dist-packages (from requests>=2.23.0->ultralytics) (2.4.0)\n",
            "Requirement already satisfied: certifi>=2017.4.17 in /usr/local/lib/python3.11/dist-packages (from requests>=2.23.0->ultralytics) (2025.6.15)\n",
            "Requirement already satisfied: filelock in /usr/local/lib/python3.11/dist-packages (from torch>=1.8.0->ultralytics) (3.18.0)\n",
            "Requirement already satisfied: typing-extensions>=4.10.0 in /usr/local/lib/python3.11/dist-packages (from torch>=1.8.0->ultralytics) (4.14.0)\n",
            "Requirement already satisfied: networkx in /usr/local/lib/python3.11/dist-packages (from torch>=1.8.0->ultralytics) (3.5)\n",
            "Requirement already satisfied: jinja2 in /usr/local/lib/python3.11/dist-packages (from torch>=1.8.0->ultralytics) (3.1.6)\n",
            "Requirement already satisfied: fsspec in /usr/local/lib/python3.11/dist-packages (from torch>=1.8.0->ultralytics) (2025.3.2)\n",
            "Collecting nvidia-cuda-nvrtc-cu12==12.4.127 (from torch>=1.8.0->ultralytics)\n",
            "  Downloading nvidia_cuda_nvrtc_cu12-12.4.127-py3-none-manylinux2014_x86_64.whl.metadata (1.5 kB)\n",
            "Collecting nvidia-cuda-runtime-cu12==12.4.127 (from torch>=1.8.0->ultralytics)\n",
            "  Downloading nvidia_cuda_runtime_cu12-12.4.127-py3-none-manylinux2014_x86_64.whl.metadata (1.5 kB)\n",
            "Collecting nvidia-cuda-cupti-cu12==12.4.127 (from torch>=1.8.0->ultralytics)\n",
            "  Downloading nvidia_cuda_cupti_cu12-12.4.127-py3-none-manylinux2014_x86_64.whl.metadata (1.6 kB)\n",
            "Collecting nvidia-cudnn-cu12==9.1.0.70 (from torch>=1.8.0->ultralytics)\n",
            "  Downloading nvidia_cudnn_cu12-9.1.0.70-py3-none-manylinux2014_x86_64.whl.metadata (1.6 kB)\n",
            "Collecting nvidia-cublas-cu12==12.4.5.8 (from torch>=1.8.0->ultralytics)\n",
            "  Downloading nvidia_cublas_cu12-12.4.5.8-py3-none-manylinux2014_x86_64.whl.metadata (1.5 kB)\n",
            "Collecting nvidia-cufft-cu12==11.2.1.3 (from torch>=1.8.0->ultralytics)\n",
            "  Downloading nvidia_cufft_cu12-11.2.1.3-py3-none-manylinux2014_x86_64.whl.metadata (1.5 kB)\n",
            "Collecting nvidia-curand-cu12==10.3.5.147 (from torch>=1.8.0->ultralytics)\n",
            "  Downloading nvidia_curand_cu12-10.3.5.147-py3-none-manylinux2014_x86_64.whl.metadata (1.5 kB)\n",
            "Collecting nvidia-cusolver-cu12==11.6.1.9 (from torch>=1.8.0->ultralytics)\n",
            "  Downloading nvidia_cusolver_cu12-11.6.1.9-py3-none-manylinux2014_x86_64.whl.metadata (1.6 kB)\n",
            "Collecting nvidia-cusparse-cu12==12.3.1.170 (from torch>=1.8.0->ultralytics)\n",
            "  Downloading nvidia_cusparse_cu12-12.3.1.170-py3-none-manylinux2014_x86_64.whl.metadata (1.6 kB)\n",
            "Requirement already satisfied: nvidia-cusparselt-cu12==0.6.2 in /usr/local/lib/python3.11/dist-packages (from torch>=1.8.0->ultralytics) (0.6.2)\n",
            "Requirement already satisfied: nvidia-nccl-cu12==2.21.5 in /usr/local/lib/python3.11/dist-packages (from torch>=1.8.0->ultralytics) (2.21.5)\n",
            "Requirement already satisfied: nvidia-nvtx-cu12==12.4.127 in /usr/local/lib/python3.11/dist-packages (from torch>=1.8.0->ultralytics) (12.4.127)\n",
            "Collecting nvidia-nvjitlink-cu12==12.4.127 (from torch>=1.8.0->ultralytics)\n",
            "  Downloading nvidia_nvjitlink_cu12-12.4.127-py3-none-manylinux2014_x86_64.whl.metadata (1.5 kB)\n",
            "Requirement already satisfied: triton==3.2.0 in /usr/local/lib/python3.11/dist-packages (from torch>=1.8.0->ultralytics) (3.2.0)\n",
            "Requirement already satisfied: sympy==1.13.1 in /usr/local/lib/python3.11/dist-packages (from torch>=1.8.0->ultralytics) (1.13.1)\n",
            "Requirement already satisfied: mpmath<1.4,>=1.1.0 in /usr/local/lib/python3.11/dist-packages (from sympy==1.13.1->torch>=1.8.0->ultralytics) (1.3.0)\n",
            "Requirement already satisfied: six>=1.5 in /usr/local/lib/python3.11/dist-packages (from python-dateutil>=2.7->matplotlib>=3.3.0->ultralytics) (1.17.0)\n",
            "Requirement already satisfied: MarkupSafe>=2.0 in /usr/local/lib/python3.11/dist-packages (from jinja2->torch>=1.8.0->ultralytics) (3.0.2)\n",
            "Downloading ultralytics-8.3.161-py3-none-any.whl (1.0 MB)\n",
            "\u001b[2K   \u001b[90m━━━━━━━━━━━━━━━━━━━━━━━━━━━━━━━━━━━━━━━━\u001b[0m \u001b[32m1.0/1.0 MB\u001b[0m \u001b[31m18.9 MB/s\u001b[0m eta \u001b[36m0:00:00\u001b[0m\n",
            "\u001b[?25hDownloading nvidia_cublas_cu12-12.4.5.8-py3-none-manylinux2014_x86_64.whl (363.4 MB)\n",
            "\u001b[2K   \u001b[90m━━━━━━━━━━━━━━━━━━━━━━━━━━━━━━━━━━━━━━━━\u001b[0m \u001b[32m363.4/363.4 MB\u001b[0m \u001b[31m2.9 MB/s\u001b[0m eta \u001b[36m0:00:00\u001b[0m\n",
            "\u001b[?25hDownloading nvidia_cuda_cupti_cu12-12.4.127-py3-none-manylinux2014_x86_64.whl (13.8 MB)\n",
            "\u001b[2K   \u001b[90m━━━━━━━━━━━━━━━━━━━━━━━━━━━━━━━━━━━━━━━━\u001b[0m \u001b[32m13.8/13.8 MB\u001b[0m \u001b[31m119.2 MB/s\u001b[0m eta \u001b[36m0:00:00\u001b[0m\n",
            "\u001b[?25hDownloading nvidia_cuda_nvrtc_cu12-12.4.127-py3-none-manylinux2014_x86_64.whl (24.6 MB)\n",
            "\u001b[2K   \u001b[90m━━━━━━━━━━━━━━━━━━━━━━━━━━━━━━━━━━━━━━━━\u001b[0m \u001b[32m24.6/24.6 MB\u001b[0m \u001b[31m98.9 MB/s\u001b[0m eta \u001b[36m0:00:00\u001b[0m\n",
            "\u001b[?25hDownloading nvidia_cuda_runtime_cu12-12.4.127-py3-none-manylinux2014_x86_64.whl (883 kB)\n",
            "\u001b[2K   \u001b[90m━━━━━━━━━━━━━━━━━━━━━━━━━━━━━━━━━━━━━━━━\u001b[0m \u001b[32m883.7/883.7 kB\u001b[0m \u001b[31m57.7 MB/s\u001b[0m eta \u001b[36m0:00:00\u001b[0m\n",
            "\u001b[?25hDownloading nvidia_cudnn_cu12-9.1.0.70-py3-none-manylinux2014_x86_64.whl (664.8 MB)\n",
            "\u001b[2K   \u001b[90m━━━━━━━━━━━━━━━━━━━━━━━━━━━━━━━━━━━━━━━━\u001b[0m \u001b[32m664.8/664.8 MB\u001b[0m \u001b[31m1.7 MB/s\u001b[0m eta \u001b[36m0:00:00\u001b[0m\n",
            "\u001b[?25hDownloading nvidia_cufft_cu12-11.2.1.3-py3-none-manylinux2014_x86_64.whl (211.5 MB)\n",
            "\u001b[2K   \u001b[90m━━━━━━━━━━━━━━━━━━━━━━━━━━━━━━━━━━━━━━━━\u001b[0m \u001b[32m211.5/211.5 MB\u001b[0m \u001b[31m11.4 MB/s\u001b[0m eta \u001b[36m0:00:00\u001b[0m\n",
            "\u001b[?25hDownloading nvidia_curand_cu12-10.3.5.147-py3-none-manylinux2014_x86_64.whl (56.3 MB)\n",
            "\u001b[2K   \u001b[90m━━━━━━━━━━━━━━━━━━━━━━━━━━━━━━━━━━━━━━━━\u001b[0m \u001b[32m56.3/56.3 MB\u001b[0m \u001b[31m41.9 MB/s\u001b[0m eta \u001b[36m0:00:00\u001b[0m\n",
            "\u001b[?25hDownloading nvidia_cusolver_cu12-11.6.1.9-py3-none-manylinux2014_x86_64.whl (127.9 MB)\n",
            "\u001b[2K   \u001b[90m━━━━━━━━━━━━━━━━━━━━━━━━━━━━━━━━━━━━━━━━\u001b[0m \u001b[32m127.9/127.9 MB\u001b[0m \u001b[31m19.3 MB/s\u001b[0m eta \u001b[36m0:00:00\u001b[0m\n",
            "\u001b[?25hDownloading nvidia_cusparse_cu12-12.3.1.170-py3-none-manylinux2014_x86_64.whl (207.5 MB)\n",
            "\u001b[2K   \u001b[90m━━━━━━━━━━━━━━━━━━━━━━━━━━━━━━━━━━━━━━━━\u001b[0m \u001b[32m207.5/207.5 MB\u001b[0m \u001b[31m3.7 MB/s\u001b[0m eta \u001b[36m0:00:00\u001b[0m\n",
            "\u001b[?25hDownloading nvidia_nvjitlink_cu12-12.4.127-py3-none-manylinux2014_x86_64.whl (21.1 MB)\n",
            "\u001b[2K   \u001b[90m━━━━━━━━━━━━━━━━━━━━━━━━━━━━━━━━━━━━━━━━\u001b[0m \u001b[32m21.1/21.1 MB\u001b[0m \u001b[31m105.7 MB/s\u001b[0m eta \u001b[36m0:00:00\u001b[0m\n",
            "\u001b[?25hDownloading ultralytics_thop-2.0.14-py3-none-any.whl (26 kB)\n",
            "Installing collected packages: nvidia-nvjitlink-cu12, nvidia-curand-cu12, nvidia-cufft-cu12, nvidia-cuda-runtime-cu12, nvidia-cuda-nvrtc-cu12, nvidia-cuda-cupti-cu12, nvidia-cublas-cu12, nvidia-cusparse-cu12, nvidia-cudnn-cu12, nvidia-cusolver-cu12, ultralytics-thop, ultralytics\n",
            "  Attempting uninstall: nvidia-nvjitlink-cu12\n",
            "    Found existing installation: nvidia-nvjitlink-cu12 12.5.82\n",
            "    Uninstalling nvidia-nvjitlink-cu12-12.5.82:\n",
            "      Successfully uninstalled nvidia-nvjitlink-cu12-12.5.82\n",
            "  Attempting uninstall: nvidia-curand-cu12\n",
            "    Found existing installation: nvidia-curand-cu12 10.3.6.82\n",
            "    Uninstalling nvidia-curand-cu12-10.3.6.82:\n",
            "      Successfully uninstalled nvidia-curand-cu12-10.3.6.82\n",
            "  Attempting uninstall: nvidia-cufft-cu12\n",
            "    Found existing installation: nvidia-cufft-cu12 11.2.3.61\n",
            "    Uninstalling nvidia-cufft-cu12-11.2.3.61:\n",
            "      Successfully uninstalled nvidia-cufft-cu12-11.2.3.61\n",
            "  Attempting uninstall: nvidia-cuda-runtime-cu12\n",
            "    Found existing installation: nvidia-cuda-runtime-cu12 12.5.82\n",
            "    Uninstalling nvidia-cuda-runtime-cu12-12.5.82:\n",
            "      Successfully uninstalled nvidia-cuda-runtime-cu12-12.5.82\n",
            "  Attempting uninstall: nvidia-cuda-nvrtc-cu12\n",
            "    Found existing installation: nvidia-cuda-nvrtc-cu12 12.5.82\n",
            "    Uninstalling nvidia-cuda-nvrtc-cu12-12.5.82:\n",
            "      Successfully uninstalled nvidia-cuda-nvrtc-cu12-12.5.82\n",
            "  Attempting uninstall: nvidia-cuda-cupti-cu12\n",
            "    Found existing installation: nvidia-cuda-cupti-cu12 12.5.82\n",
            "    Uninstalling nvidia-cuda-cupti-cu12-12.5.82:\n",
            "      Successfully uninstalled nvidia-cuda-cupti-cu12-12.5.82\n",
            "  Attempting uninstall: nvidia-cublas-cu12\n",
            "    Found existing installation: nvidia-cublas-cu12 12.5.3.2\n",
            "    Uninstalling nvidia-cublas-cu12-12.5.3.2:\n",
            "      Successfully uninstalled nvidia-cublas-cu12-12.5.3.2\n",
            "  Attempting uninstall: nvidia-cusparse-cu12\n",
            "    Found existing installation: nvidia-cusparse-cu12 12.5.1.3\n",
            "    Uninstalling nvidia-cusparse-cu12-12.5.1.3:\n",
            "      Successfully uninstalled nvidia-cusparse-cu12-12.5.1.3\n",
            "  Attempting uninstall: nvidia-cudnn-cu12\n",
            "    Found existing installation: nvidia-cudnn-cu12 9.3.0.75\n",
            "    Uninstalling nvidia-cudnn-cu12-9.3.0.75:\n",
            "      Successfully uninstalled nvidia-cudnn-cu12-9.3.0.75\n",
            "  Attempting uninstall: nvidia-cusolver-cu12\n",
            "    Found existing installation: nvidia-cusolver-cu12 11.6.3.83\n",
            "    Uninstalling nvidia-cusolver-cu12-11.6.3.83:\n",
            "      Successfully uninstalled nvidia-cusolver-cu12-11.6.3.83\n",
            "Successfully installed nvidia-cublas-cu12-12.4.5.8 nvidia-cuda-cupti-cu12-12.4.127 nvidia-cuda-nvrtc-cu12-12.4.127 nvidia-cuda-runtime-cu12-12.4.127 nvidia-cudnn-cu12-9.1.0.70 nvidia-cufft-cu12-11.2.1.3 nvidia-curand-cu12-10.3.5.147 nvidia-cusolver-cu12-11.6.1.9 nvidia-cusparse-cu12-12.3.1.170 nvidia-nvjitlink-cu12-12.4.127 ultralytics-8.3.161 ultralytics-thop-2.0.14\n"
          ]
        }
      ],
      "source": [
        "!pip install --upgrade ultralytics"
      ]
    },
    {
      "cell_type": "code",
      "execution_count": null,
      "metadata": {
        "colab": {
          "base_uri": "https://localhost:8080/"
        },
        "id": "0CqOpmtxzF83",
        "outputId": "91865940-a136-434a-ecfc-af3975b6fc31"
      },
      "outputs": [
        {
          "name": "stdout",
          "output_type": "stream",
          "text": [
            "Ultralytics 8.3.161 🚀 Python-3.11.13 torch-2.6.0+cu124 CUDA:0 (NVIDIA A100-SXM4-40GB, 40507MiB)\n",
            "\u001b[34m\u001b[1mengine/trainer: \u001b[0magnostic_nms=False, amp=True, augment=False, auto_augment=randaugment, batch=90, bgr=0.0, box=7.5, cache=False, cfg=None, classes=None, close_mosaic=10, cls=0.5, conf=None, copy_paste=0.0, copy_paste_mode=flip, cos_lr=False, cutmix=0.0, data=data.yml, degrees=0.0, deterministic=True, device=None, dfl=1.5, dnn=False, dropout=0.0, dynamic=False, embed=None, epochs=1, erasing=0.4, exist_ok=False, fliplr=0.5, flipud=0.0, format=torchscript, fraction=1.0, freeze=None, half=False, hsv_h=0.015, hsv_s=0.7, hsv_v=0.4, imgsz=640, int8=False, iou=0.7, keras=False, kobj=1.0, line_width=None, lr0=0.01, lrf=0.01, mask_ratio=4, max_det=300, mixup=0.0, mode=train, model=yolov8n.pt, momentum=0.937, mosaic=1.0, multi_scale=False, name=train2, nbs=64, nms=False, opset=None, optimize=False, optimizer=auto, overlap_mask=True, patience=100, perspective=0.0, plots=True, pose=12.0, pretrained=True, profile=False, project=coba, rect=False, resume=False, retina_masks=False, save=True, save_conf=False, save_crop=False, save_dir=coba/train2, save_frames=False, save_json=False, save_period=-1, save_txt=False, scale=0.5, seed=0, shear=0.0, show=False, show_boxes=True, show_conf=True, show_labels=True, simplify=True, single_cls=False, source=None, split=val, stream_buffer=False, task=detect, time=None, tracker=botsort.yaml, translate=0.1, val=True, verbose=True, vid_stride=1, visualize=False, warmup_bias_lr=0.1, warmup_epochs=3.0, warmup_momentum=0.8, weight_decay=0.0005, workers=8, workspace=None\n",
            "Overriding model.yaml nc=80 with nc=79\n",
            "\n",
            "                   from  n    params  module                                       arguments                     \n",
            "  0                  -1  1       464  ultralytics.nn.modules.conv.Conv             [3, 16, 3, 2]                 \n",
            "  1                  -1  1      4672  ultralytics.nn.modules.conv.Conv             [16, 32, 3, 2]                \n",
            "  2                  -1  1      7360  ultralytics.nn.modules.block.C2f             [32, 32, 1, True]             \n",
            "  3                  -1  1     18560  ultralytics.nn.modules.conv.Conv             [32, 64, 3, 2]                \n",
            "  4                  -1  2     49664  ultralytics.nn.modules.block.C2f             [64, 64, 2, True]             \n",
            "  5                  -1  1     73984  ultralytics.nn.modules.conv.Conv             [64, 128, 3, 2]               \n",
            "  6                  -1  2    197632  ultralytics.nn.modules.block.C2f             [128, 128, 2, True]           \n",
            "  7                  -1  1    295424  ultralytics.nn.modules.conv.Conv             [128, 256, 3, 2]              \n",
            "  8                  -1  1    460288  ultralytics.nn.modules.block.C2f             [256, 256, 1, True]           \n",
            "  9                  -1  1    164608  ultralytics.nn.modules.block.SPPF            [256, 256, 5]                 \n",
            " 10                  -1  1         0  torch.nn.modules.upsampling.Upsample         [None, 2, 'nearest']          \n",
            " 11             [-1, 6]  1         0  ultralytics.nn.modules.conv.Concat           [1]                           \n",
            " 12                  -1  1    148224  ultralytics.nn.modules.block.C2f             [384, 128, 1]                 \n",
            " 13                  -1  1         0  torch.nn.modules.upsampling.Upsample         [None, 2, 'nearest']          \n",
            " 14             [-1, 4]  1         0  ultralytics.nn.modules.conv.Concat           [1]                           \n",
            " 15                  -1  1     37248  ultralytics.nn.modules.block.C2f             [192, 64, 1]                  \n",
            " 16                  -1  1     36992  ultralytics.nn.modules.conv.Conv             [64, 64, 3, 2]                \n",
            " 17            [-1, 12]  1         0  ultralytics.nn.modules.conv.Concat           [1]                           \n",
            " 18                  -1  1    123648  ultralytics.nn.modules.block.C2f             [192, 128, 1]                 \n",
            " 19                  -1  1    147712  ultralytics.nn.modules.conv.Conv             [128, 128, 3, 2]              \n",
            " 20             [-1, 9]  1         0  ultralytics.nn.modules.conv.Concat           [1]                           \n",
            " 21                  -1  1    493056  ultralytics.nn.modules.block.C2f             [384, 256, 1]                 \n",
            " 22        [15, 18, 21]  1    888847  ultralytics.nn.modules.head.Detect           [79, [64, 128, 256]]          \n",
            "Model summary: 129 layers, 3,148,383 parameters, 3,148,367 gradients, 8.8 GFLOPs\n",
            "\n",
            "Transferred 319/355 items from pretrained weights\n",
            "Freezing layer 'model.22.dfl.conv.weight'\n",
            "\u001b[34m\u001b[1mAMP: \u001b[0mrunning Automatic Mixed Precision (AMP) checks...\n",
            "\u001b[34m\u001b[1mAMP: \u001b[0mchecks passed ✅\n",
            "\u001b[34m\u001b[1mtrain: \u001b[0mFast image access ✅ (ping: 0.0±0.0 ms, read: 2772.7±795.5 MB/s, size: 156.5 KB)\n",
            "\u001b[34m\u001b[1mtrain: \u001b[0mScanning /content/train/labels... 60668 images, 0 backgrounds, 0 corrupt: 100% 60668/60668 [00:40<00:00, 1491.37it/s]\n",
            "\u001b[34m\u001b[1mtrain: \u001b[0mNew cache created: /content/train/labels.cache\n",
            "\u001b[34m\u001b[1malbumentations: \u001b[0mBlur(p=0.01, blur_limit=(3, 7)), MedianBlur(p=0.01, blur_limit=(3, 7)), ToGray(p=0.01, method='weighted_average', num_output_channels=3), CLAHE(p=0.01, clip_limit=(1.0, 4.0), tile_grid_size=(8, 8))\n",
            "\u001b[34m\u001b[1mval: \u001b[0mFast image access ✅ (ping: 0.0±0.0 ms, read: 1811.7±871.4 MB/s, size: 171.0 KB)\n",
            "\u001b[34m\u001b[1mval: \u001b[0mScanning /content/val/labels... 14884 images, 0 backgrounds, 1 corrupt: 100% 14884/14884 [00:11<00:00, 1279.03it/s]\n",
            "\u001b[34m\u001b[1mval: \u001b[0m/content/val/images/n003-2018-01-04-17-14-29+0800__CAM_BACK_LEFT__1515057845331004.jpg: ignoring corrupt image/label: non-normalized or out of bounds coordinates [     1.0006]\n",
            "\u001b[34m\u001b[1mval: \u001b[0mNew cache created: /content/val/labels.cache\n",
            "Plotting labels to coba/train2/labels.jpg... \n",
            "\u001b[34m\u001b[1moptimizer:\u001b[0m 'optimizer=auto' found, ignoring 'lr0=0.01' and 'momentum=0.937' and determining best 'optimizer', 'lr0' and 'momentum' automatically... \n",
            "\u001b[34m\u001b[1moptimizer:\u001b[0m AdamW(lr=0.00012, momentum=0.9) with parameter groups 57 weight(decay=0.0), 64 weight(decay=0.000703125), 63 bias(decay=0.0)\n",
            "Image sizes 640 train, 640 val\n",
            "Using 8 dataloader workers\n",
            "Logging results to \u001b[1mcoba/train2\u001b[0m\n",
            "Starting training for 1 epochs...\n",
            "\n",
            "      Epoch    GPU_mem   box_loss   cls_loss   dfl_loss  Instances       Size\n",
            "        1/1      18.7G       1.74      3.356      1.192         83        640: 100% 675/675 [03:49<00:00,  2.95it/s]\n",
            "                 Class     Images  Instances      Box(P          R      mAP50  mAP50-95): 100% 83/83 [01:15<00:00,  1.10it/s]\n",
            "                   all      14883     136071      0.602     0.0766     0.0584     0.0356\n",
            "\n",
            "1 epochs completed in 0.087 hours.\n",
            "Optimizer stripped from coba/train2/weights/last.pt, 6.5MB\n",
            "Optimizer stripped from coba/train2/weights/best.pt, 6.5MB\n",
            "\n",
            "Validating coba/train2/weights/best.pt...\n",
            "Ultralytics 8.3.161 🚀 Python-3.11.13 torch-2.6.0+cu124 CUDA:0 (NVIDIA A100-SXM4-40GB, 40507MiB)\n",
            "Model summary (fused): 72 layers, 3,143,093 parameters, 0 gradients, 8.7 GFLOPs\n",
            "                 Class     Images  Instances      Box(P          R      mAP50  mAP50-95): 100% 83/83 [01:08<00:00,  1.21it/s]\n",
            "                   all      14883     136071      0.602     0.0766     0.0584     0.0356\n",
            "animal+pedestrian.moving+vertical_position.off_ground          1          1          1          0          0          0\n",
            "animal+pedestrian.moving+vertical_position.on_ground         16         17          1          0          0          0\n",
            "animal+pedestrian.sitting_lying_down+vertical_position.on_ground          5          7          1          0          0          0\n",
            "animal+pedestrian.standing+vertical_position.off_ground          5          9          1          0          0          0\n",
            "animal+pedestrian.standing+vertical_position.on_ground         35         48          1          0          0          0\n",
            "human.pedestrian.adult          2          2          0          0          0          0\n",
            "human.pedestrian.adult+pedestrian.moving       6281      18706       0.31       0.41      0.275      0.143\n",
            "human.pedestrian.adult+pedestrian.sitting_lying_down       1189       2827      0.121     0.0308     0.0292     0.0115\n",
            "human.pedestrian.adult+pedestrian.standing       3395       7186      0.215      0.223      0.106     0.0556\n",
            "human.pedestrian.child+pedestrian.moving        112        139          1          0   0.000594   0.000415\n",
            "human.pedestrian.child+pedestrian.sitting_lying_down         19         25          1          0          0          0\n",
            "human.pedestrian.child+pedestrian.standing         67         87          1          0    0.00121   0.000968\n",
            "human.pedestrian.construction_worker          1          1          0          0          0          0\n",
            "human.pedestrian.construction_worker+pedestrian.moving        478        706     0.0168    0.00283    0.00623    0.00391\n",
            "human.pedestrian.construction_worker+pedestrian.sitting_lying_down        206        351          1          0   0.000446   0.000244\n",
            "human.pedestrian.construction_worker+pedestrian.standing        897       2059     0.0821    0.00389     0.0166    0.00832\n",
            "human.pedestrian.personal_mobility+cycle.with_rider         21         21          1          0          0          0\n",
            "human.pedestrian.personal_mobility+cycle.without_rider        136        432          1          0          0          0\n",
            "human.pedestrian.police_officer+pedestrian.moving         16         20          1          0          0          0\n",
            "human.pedestrian.police_officer+pedestrian.sitting_lying_down          2          2          1          0          0          0\n",
            "human.pedestrian.police_officer+pedestrian.standing         55         74          1          0   0.000446   0.000356\n",
            "human.pedestrian.stroller         61         70          1          0          0          0\n",
            "human.pedestrian.wheelchair          2          2          1          0          0          0\n",
            "movable_object.barrier       2742      18433      0.331      0.454      0.392      0.229\n",
            " movable_object.debris        389        710          1          0   0.000476   0.000193\n",
            "movable_object.pushable_pullable        471        645          1          0    0.00339    0.00201\n",
            "movable_object.trafficcone       4526      18587       0.49      0.401      0.386      0.189\n",
            "static_object.bicycle_rack        548        603      0.071    0.00663     0.0218    0.00911\n",
            "       vehicle.bicycle          2          5          1          0          0          0\n",
            "vehicle.bicycle+cycle.with_rider        226        233     0.0549    0.00858     0.0154    0.00954\n",
            "vehicle.bicycle+cycle.without_rider       2137       3114      0.305       0.38      0.312      0.185\n",
            "vehicle.bus.bendy+vehicle.moving         28         43          1          0   0.000991   0.000533\n",
            "vehicle.bus.bendy+vehicle.parked          8         11          1          0          0          0\n",
            "vehicle.bus.bendy+vehicle.stopped          4          8          1          0          0          0\n",
            "vehicle.bus.rigid+vehicle.moving       1074       1199      0.355      0.179      0.139       0.11\n",
            "vehicle.bus.rigid+vehicle.parked        226        332      0.199     0.0873     0.0398     0.0341\n",
            "vehicle.bus.rigid+vehicle.stopped        254        292       0.15     0.0616     0.0402     0.0308\n",
            "           vehicle.car          1          3          0          0          0          0\n",
            "vehicle.car+vehicle.moving       7925      18269      0.386      0.575      0.466      0.344\n",
            "vehicle.car+vehicle.parked       5789      25152       0.28      0.578      0.374      0.193\n",
            "vehicle.car+vehicle.stopped       1865       3855      0.107      0.139      0.063      0.041\n",
            "vehicle.construction+vehicle.moving         65         70          1          0          0          0\n",
            "vehicle.construction+vehicle.parked        932       1090      0.284      0.044     0.0472     0.0175\n",
            "vehicle.construction+vehicle.stopped        130        141          1          0   0.000945   0.000608\n",
            "           vehicle.ego          1          1          1          0          0          0\n",
            "vehicle.emergency.ambulance+vehicle.stopped+vehicle_light.emergency.not_flashing          1          1          1          0          0          0\n",
            "vehicle.emergency.ambulance+vehicle_light.emergency.flashing+vehicle.moving          1          1          0          0          0          0\n",
            "vehicle.emergency.ambulance+vehicle_light.emergency.not_flashing+vehicle.moving          2          2          1          0          0          0\n",
            "vehicle.emergency.ambulance+vehicle_light.emergency.not_flashing+vehicle.parked          3          4          0          0          0          0\n",
            "vehicle.emergency.police+vehicle.stopped+vehicle_light.emergency.not_flashing          5          5          1          0          0          0\n",
            "vehicle.emergency.police+vehicle_light.emergency.not_flashing+vehicle.moving         15         15          1          0          0          0\n",
            "vehicle.emergency.police+vehicle_light.emergency.not_flashing+vehicle.parked         13         15          1          0   0.000873   0.000785\n",
            "    vehicle.motorcycle          1          2          1          0          0          0\n",
            "vehicle.motorcycle+cycle.with_rider       1066       1161      0.442       0.26      0.285      0.216\n",
            "vehicle.motorcycle+cycle.without_rider       1314       1934      0.306       0.35       0.24      0.131\n",
            "vehicle.trailer+vehicle.moving        166        179      0.101     0.0168     0.0404     0.0282\n",
            "vehicle.trailer+vehicle.parked        181        273      0.108    0.00366    0.00631    0.00393\n",
            "vehicle.trailer+vehicle.stopped         31         34          1          0          0          0\n",
            "vehicle.truck+vehicle.moving       2258       2872      0.285      0.255      0.154      0.108\n",
            "vehicle.truck+vehicle.parked       2243       3218      0.212      0.219       0.11     0.0685\n",
            "vehicle.truck+vehicle.stopped        618        766      0.109     0.0574     0.0462     0.0315\n",
            "vehicle.truck+vehicle_light.emergency.not_flashing+vehicle.parked          1          1          0          0          0          0\n",
            "Speed: 0.1ms preprocess, 0.3ms inference, 0.0ms loss, 1.0ms postprocess per image\n",
            "Results saved to \u001b[1mcoba/train2\u001b[0m\n",
            "💡 Learn more at https://docs.ultralytics.com/modes/train\n"
          ]
        }
      ],
      "source": [
        "!yolo detect train model=yolov8n.pt data=data.yml epochs=1 imgsz=640 batch=90 project=coba verbose=True"
      ]
    },
    {
      "cell_type": "code",
      "execution_count": null,
      "metadata": {
        "colab": {
          "base_uri": "https://localhost:8080/"
        },
        "id": "787Ju-xGsFEA",
        "outputId": "9da4c4c6-1393-4dce-b037-6083fb7136e8"
      },
      "outputs": [
        {
          "name": "stdout",
          "output_type": "stream",
          "text": [
            "\n",
            "image 1/1 /content/samples/CAM_FRONT_RIGHT/n013-2018-08-16-16-15-38+0800__CAM_FRONT_RIGHT__1534408812520176.jpg: 384x640 6 vehicle.movings, 8.2ms\n",
            "Speed: 2.5ms preprocess, 8.2ms inference, 2.0ms postprocess per image at shape (1, 3, 384, 640)\n",
            "Results saved to \u001b[1mruns/detect/predict3\u001b[0m\n",
            "Prediction saved to runs/detect/predict/\n"
          ]
        }
      ],
      "source": [
        "from ultralytics import YOLO\n",
        "\n",
        "import os\n",
        "import random\n",
        "\n",
        "def get_random_file(directory):\n",
        "    files = [f for f in os.listdir(directory) if os.path.isfile(os.path.join(directory, f))]\n",
        "    if not files:\n",
        "        return None  # or raise an error if preferred\n",
        "    return os.path.join(directory, random.choice(files))\n",
        "\n",
        "# Example usage\n",
        "random_file = get_random_file(\"/content/samples/CAM_FRONT_RIGHT/\")\n",
        "# 1) Load the fine-tuned weights\n",
        "model = YOLO(\"/content/coba/train/weights/best.pt\")\n",
        "\n",
        "model.predict(\n",
        "    source=random_file,  # or a local path / folder\n",
        "    conf=0.25,\n",
        "    save=True,        # annotated image saved to runs/detect/predict/\n",
        "    imgsz=640\n",
        ")\n",
        "print(\"Prediction saved to runs/detect/predict/\")\n"
      ]
    },
    {
      "cell_type": "code",
      "execution_count": null,
      "metadata": {
        "colab": {
          "base_uri": "https://localhost:8080/"
        },
        "id": "WKD9HV24LWBO",
        "outputId": "e2b9d0fe-990a-47f0-ab64-a25f224f950a"
      },
      "outputs": [
        {
          "name": "stdout",
          "output_type": "stream",
          "text": [
            "Ultralytics 8.3.161 🚀 Python-3.11.13 torch-2.6.0+cu124 CUDA:0 (Tesla T4, 15095MiB)\n",
            "\u001b[34m\u001b[1mval: \u001b[0mFast image access ✅ (ping: 0.0±0.0 ms, read: 2450.4±498.3 MB/s, size: 158.7 KB)\n"
          ]
        },
        {
          "name": "stderr",
          "output_type": "stream",
          "text": [
            "\u001b[34m\u001b[1mval: \u001b[0mScanning /content/val/labels.cache... 148 images, 0 backgrounds, 0 corrupt: 100%|██████████| 148/148 [00:00<?, ?it/s]\n",
            "                 Class     Images  Instances      Box(P          R      mAP50  mAP50-95): 100%|██████████| 10/10 [00:05<00:00,  1.88it/s]\n"
          ]
        },
        {
          "name": "stdout",
          "output_type": "stream",
          "text": [
            "                   all        148       1534      0.556       0.11      0.117     0.0674\n",
            "                animal          1          1          1          0          0          0\n",
            "human.pedestrian.adult         80        343      0.541      0.265      0.281      0.127\n",
            "human.pedestrian.child          2          2          1          0          0          0\n",
            "human.pedestrian.construction_worker         16         40          0          0     0.0217    0.00516\n",
            "human.pedestrian.personal_mobility          5         13          1          0          0          0\n",
            "human.pedestrian.stroller          1          1          1          0          0          0\n",
            "movable_object.barrier         25        136      0.322      0.206      0.173     0.0929\n",
            " movable_object.debris          4          5          1          0          0          0\n",
            "movable_object.pushable_pullable          6          8          1          0          0          0\n",
            "movable_object.trafficcone         45        237      0.545      0.228      0.274       0.13\n",
            "static_object.bicycle_rack          8          9          0          0     0.0809     0.0273\n",
            "       vehicle.bicycle         23         37       0.32      0.216      0.177      0.108\n",
            "     vehicle.bus.bendy          1          1          1          0          0          0\n",
            "     vehicle.bus.rigid         15         16      0.449     0.0625      0.105     0.0942\n",
            "           vehicle.car        122        542      0.495      0.574      0.552      0.344\n",
            "  vehicle.construction         17         17          0          0     0.0137    0.00829\n",
            "    vehicle.motorcycle         27         32       0.53      0.281       0.32       0.21\n",
            "       vehicle.trailer          2          2          0          0          0          0\n",
            "         vehicle.truck         57         92      0.362      0.261      0.216      0.133\n",
            "Speed: 0.9ms preprocess, 5.4ms inference, 0.0ms loss, 5.1ms postprocess per image\n",
            "Results saved to \u001b[1mruns/detect/val4\u001b[0m\n",
            "[          0     0.12694           0    0.005159           0           0    0.092869           0           0     0.12968     0.02732      0.1083           0    0.094209     0.34392   0.0082862     0.21013           0     0.13343]\n"
          ]
        }
      ],
      "source": [
        "results = model.val()\n",
        "print(results.box.all_ap)\n",
        "# print(results.box.map_per_class)  # AP per class\n",
        "# print(results.names)              # Class names"
      ]
    }
  ],
  "metadata": {
    "colab": {
      "provenance": []
    },
    "kernelspec": {
      "display_name": "Python 3",
      "name": "python3"
    },
    "language_info": {
      "name": "python"
    }
  },
  "nbformat": 4,
  "nbformat_minor": 0
}

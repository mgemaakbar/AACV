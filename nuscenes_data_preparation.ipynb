{
  "nbformat": 4,
  "nbformat_minor": 0,
  "metadata": {
    "colab": {
      "provenance": []
    },
    "kernelspec": {
      "name": "python3",
      "display_name": "Python 3"
    },
    "language_info": {
      "name": "python"
    }
  },
  "cells": [
    {
      "cell_type": "code",
      "source": [
        "#!curl -L https://d36yt3mvayqw5m.cloudfront.net/public/nuimages-v1.0/nuimages-v1.0-all-metadata.tgz > data_annotation.tgz # real annotation"
      ],
      "metadata": {
        "colab": {
          "base_uri": "https://localhost:8080/"
        },
        "id": "KMpFRnrekrsD",
        "outputId": "72227ab3-e639-46e8-a210-71722f8073f7"
      },
      "execution_count": null,
      "outputs": [
        {
          "output_type": "stream",
          "name": "stdout",
          "text": [
            "  % Total    % Received % Xferd  Average Speed   Time    Time     Time  Current\n",
            "                                 Dload  Upload   Total   Spent    Left  Speed\n",
            "100  609M  100  609M    0     0   100M      0  0:00:06  0:00:06 --:--:--  107M\n"
          ]
        }
      ]
    },
    {
      "cell_type": "code",
      "source": [
        "#!curl -L https://d36yt3mvayqw5m.cloudfront.net/public/nuimages-v1.0/nuimages-v1.0-all-samples.tgz > data_image.tgz # real images"
      ],
      "metadata": {
        "colab": {
          "base_uri": "https://localhost:8080/"
        },
        "id": "iRqIV408EsG6",
        "outputId": "a702cc2b-e80a-40ab-e07f-96c933b68b98"
      },
      "execution_count": null,
      "outputs": [
        {
          "output_type": "stream",
          "name": "stdout",
          "text": [
            "  % Total    % Received % Xferd  Average Speed   Time    Time     Time  Current\n",
            "                                 Dload  Upload   Total   Spent    Left  Speed\n",
            "100 15.2G  100 15.2G    0     0  14.4M      0  0:17:57  0:17:57 --:--:-- 12.4M\n"
          ]
        }
      ]
    },
    {
      "cell_type": "code",
      "source": [
        "# minified version just for testing\n",
        "#!curl -L https://d36yt3mvayqw5m.cloudfront.net/public/nuimages-v1.0/nuimages-v1.0-mini.tgz > mini.tgz && tar -xzf mini.tgz && mv v1.0-mini v1.0-train"
      ],
      "metadata": {
        "id": "rgd5cL_mJrDI"
      },
      "execution_count": null,
      "outputs": []
    },
    {
      "cell_type": "code",
      "source": [
        "from google.colab import drive # the real images data files take too long (about 17 minutes) to be downloaded, so we just mount it\n",
        "drive.mount('/content/drive')"
      ],
      "metadata": {
        "id": "mbO9yov1FY7W",
        "colab": {
          "base_uri": "https://localhost:8080/"
        },
        "outputId": "0a6c658e-9be8-4541-f19d-5f22ed3397b1"
      },
      "execution_count": null,
      "outputs": [
        {
          "output_type": "stream",
          "name": "stdout",
          "text": [
            "Drive already mounted at /content/drive; to attempt to forcibly remount, call drive.mount(\"/content/drive\", force_remount=True).\n"
          ]
        }
      ]
    },
    {
      "cell_type": "code",
      "source": [
        "!tar -xzf /content/drive/MyDrive/nuimages-v1.0-all-metadata.tgz && tar -xzf /content/drive/MyDrive/nuimages-v1.0-all-samples.tgz # extract. this will take about 7 minutes"
      ],
      "metadata": {
        "id": "wsh02yDKJyN1"
      },
      "execution_count": null,
      "outputs": []
    },
    {
      "cell_type": "code",
      "source": [
        "drive.flush_and_unmount() # unmount when we don't need it anymore, so we have more disk space"
      ],
      "metadata": {
        "id": "CB-rhXD_6PcX"
      },
      "execution_count": 54,
      "outputs": []
    },
    {
      "cell_type": "code",
      "source": [
        "!mkdir train test val && mkdir train/image test/image val/image train/label test/label val/label # for the yolo format"
      ],
      "metadata": {
        "id": "-idcf2kQgin0"
      },
      "execution_count": null,
      "outputs": []
    },
    {
      "cell_type": "code",
      "execution_count": null,
      "metadata": {
        "id": "zrYkgnkaj8Gf",
        "colab": {
          "base_uri": "https://localhost:8080/"
        },
        "outputId": "08c85df9-17de-42a5-ff9a-eb569e9179f2"
      },
      "outputs": [
        {
          "output_type": "stream",
          "name": "stdout",
          "text": [
            "136074\n",
            "213185\n",
            "25\n",
            "557715\n",
            "872181\n",
            "25\n"
          ]
        }
      ],
      "source": [
        "import pandas as pd\n",
        "\n",
        "def bbox_to_yolo(xmin, ymin, xmax, ymax, image_width, image_height):\n",
        "    box_width = xmax - xmin\n",
        "    box_height = ymax - ymin\n",
        "\n",
        "    x_center = xmin + box_width / 2\n",
        "    y_center = ymin + box_height / 2\n",
        "\n",
        "    # Normalize by image size\n",
        "    x_center_norm = x_center / image_width\n",
        "    y_center_norm = y_center / image_height\n",
        "    width_norm = box_width / image_width\n",
        "    height_norm = box_height / image_height\n",
        "\n",
        "    return x_center_norm, y_center_norm, width_norm, height_norm\n",
        "\n",
        "\n",
        "def read_and_join(path_prefix):\n",
        "    obj_ann = pd.read_json(path_prefix + 'object_ann.json')\n",
        "    category = pd.read_json(path_prefix + 'category.json').rename(columns={\"name\": \"category_name\"})\n",
        "    category['category_id'] = range(len(category))\n",
        "    sample_data = pd.read_json(path_prefix + 'sample_data.json')\n",
        "    # attribute = pd.read_json(path_prefix + 'attribute.json')\n",
        "\n",
        "    # object annotation left join sample_data\n",
        "    merged = obj_ann.merge(\n",
        "        sample_data,\n",
        "        how = 'left',\n",
        "        right_on='token',\n",
        "        left_on='sample_data_token',\n",
        "        suffixes=('_left', '_right')\n",
        "    )\n",
        "\n",
        "    merged = merged.merge(\n",
        "        category,\n",
        "        how = 'left',\n",
        "        left_on='category_token',\n",
        "        right_on='token',\n",
        "        suffixes=('_from_merged', '_from_category')\n",
        "    )\n",
        "\n",
        "    print (len(obj_ann))\n",
        "    print (len(sample_data))\n",
        "    print (len(category))\n",
        "\n",
        "    return merged\n",
        "\n",
        "# create list of train/val/test image file name list in a txt file (train/val.txt), so we can use cp/rsync with it\n",
        "def create_image_filename_list(path_prefix, data_split, merged):\n",
        "    if data_split not in ['train', 'val', 'test']:\n",
        "        return -1\n",
        "\n",
        "    df = merged[['filename']]\n",
        "    filenames = set([])\n",
        "    for index, row in df.iterrows():\n",
        "        filenames.add(row['filename'])\n",
        "    for fn in filenames:\n",
        "        with open(data_split+\".txt\", 'a') as f:\n",
        "            f.write(fn + \"\\n\")\n",
        "\n",
        "# create yolo label txt\n",
        "def convert_to_yolo_format(path_prefix, data_split, merged):\n",
        "    if data_split not in ['train', 'val', 'test']:\n",
        "        return -1\n",
        "    df = merged[['bbox', 'category_id', 'category_name', 'filename', 'width',  'height']]\n",
        "    for index, row in df.iterrows():\n",
        "        filename = row['filename'].split(\"/\")[-1] # filename column is in the format of samples/CAM_BACK/n010-2018-08-27-16-15-24+0800...\n",
        "        abs_path_to_label_txt = path_prefix + data_split + \"/label/\" + filename + '.txt' # example: /content/train/label/asdf.jpg.txt\n",
        "        x_center, y_center, width, height = bbox_to_yolo(row['bbox'][0], row['bbox'][1], row['bbox'][2], row['bbox'][3], row['width'], row['height'])\n",
        "        with open(abs_path_to_label_txt, 'a') as f: # append label to the txt\n",
        "            f.write(str(row['category_id']) + \" \" + str(x_center) + \" \" + str(y_center) + \" \" + str(width) + \" \" + str(height) + \"\\n\")\n",
        "\n",
        "path_prefix = '/content/v1.0-val.'\n",
        "val_df = read_and_join('/content/v1.0-val/')\n",
        "train_df = read_and_join('/content/v1.0-train/')"
      ]
    },
    {
      "cell_type": "code",
      "source": [],
      "metadata": {
        "id": "zTissn3bipUB"
      },
      "execution_count": null,
      "outputs": []
    },
    {
      "cell_type": "code",
      "source": [
        "create_image_filename_list('/content/', 'train', train_df)\n",
        "create_image_filename_list('/content/', 'val', val_df)"
      ],
      "metadata": {
        "id": "N-CPubGQTR8e"
      },
      "execution_count": null,
      "outputs": []
    },
    {
      "cell_type": "code",
      "source": [
        "!rm -rf /content/test/image/* /content/val/image/*"
      ],
      "metadata": {
        "id": "n6eICBrChCjh"
      },
      "execution_count": 47,
      "outputs": []
    },
    {
      "cell_type": "code",
      "source": [
        "# copy the val image to directory expected by yolo\n",
        "!xargs -a val.txt -P8 -I{} cp \"/content/{}\" /content/val/image/"
      ],
      "metadata": {
        "id": "d0NYNGBBhMKV"
      },
      "execution_count": 48,
      "outputs": []
    },
    {
      "cell_type": "code",
      "source": [
        "# NOTE: rsync alternative. it does the same thing with the cp\n",
        "# # not only the image, this rsync will copy the (parent) directory structure as well (the samples/CAM_BACK) which is what we don't want\n",
        "# !rsync -av --files-from=val.txt /content/ /content/temp_val_images/\n",
        "# # so we do rsync once again, from the temp_val_images to val/image, which is the final directory\n",
        "# !rsync -av /content/temp_val_images/samples/CAM_BACK/ /content/temp_val_images/samples/CAM_BACK_LEFT/ /content/temp_val_images/samples/CAM_BACK_RIGHT/ /content/temp_val_images/samples/CAM_FRONT/ /content/temp_val_images/samples/CAM_FRONT_LEFT/ /content/temp_val_images/samples/CAM_FRONT_RIGHT/ /content/val/image/\n",
        "# !rm -rf /content/temp_val_images/ # remove, dont need anymore"
      ],
      "metadata": {
        "colab": {
          "base_uri": "https://localhost:8080/"
        },
        "id": "dPV4wymo7VXA",
        "outputId": "f9c3d572-9ba1-48ff-d705-f66db39f1551"
      },
      "execution_count": null,
      "outputs": [
        {
          "output_type": "stream",
          "name": "stdout",
          "text": [
            "building file list ... done\n",
            "samples/\n",
            "samples/CAM_BACK/\n",
            "samples/CAM_BACK/n013-2018-08-06-14-15-50+0800__CAM_BACK__1533536696137005.jpg\n",
            "samples/CAM_BACK/n013-2018-08-06-14-15-50+0800__CAM_BACK__1533536699437006.jpg\n",
            "samples/CAM_BACK/n013-2018-08-06-14-15-50+0800__CAM_BACK__1533536704887005.jpg\n",
            "samples/CAM_BACK/n013-2018-08-06-14-15-50+0800__CAM_BACK__1533536716387005.jpg\n",
            "samples/CAM_BACK/n013-2018-08-06-14-15-50+0800__CAM_BACK__1533536719387005.jpg\n",
            "samples/CAM_BACK/n013-2018-08-06-14-15-50+0800__CAM_BACK__1533536722137005.jpg\n",
            "samples/CAM_BACK/n013-2018-08-06-14-15-50+0800__CAM_BACK__1533536743137005.jpg\n",
            "samples/CAM_BACK/n013-2018-08-06-14-15-50+0800__CAM_BACK__1533536747687005.jpg\n",
            "samples/CAM_BACK/n013-2018-08-06-14-15-50+0800__CAM_BACK__1533536750687005.jpg\n",
            "samples/CAM_BACK/n013-2018-08-06-14-15-50+0800__CAM_BACK__1533536753287005.jpg\n",
            "samples/CAM_BACK/n013-2018-08-06-14-15-50+0800__CAM_BACK__1533536756887005.jpg\n",
            "samples/CAM_BACK/n013-2018-08-06-14-15-50+0800__CAM_BACK__1533536764537005.jpg\n",
            "samples/CAM_BACK/n013-2018-08-06-14-15-50+0800__CAM_BACK__1533536767887005.jpg\n",
            "samples/CAM_BACK/n013-2018-08-06-14-15-50+0800__CAM_BACK__1533536770537005.jpg\n",
            "samples/CAM_BACK/n013-2018-08-06-14-15-50+0800__CAM_BACK__1533536774387005.jpg\n",
            "samples/CAM_BACK/n013-2018-08-06-14-15-50+0800__CAM_BACK__1533536780887007.jpg\n",
            "samples/CAM_BACK/n013-2018-08-06-14-15-50+0800__CAM_BACK__1533536783437005.jpg\n",
            "samples/CAM_BACK/n013-2018-08-06-14-15-50+0800__CAM_BACK__1533536785937005.jpg\n",
            "samples/CAM_BACK/n013-2018-08-06-14-15-50+0800__CAM_BACK__1533536788387005.jpg\n",
            "samples/CAM_BACK/n013-2018-08-06-14-15-50+0800__CAM_BACK__1533536791037005.jpg\n",
            "samples/CAM_BACK/n013-2018-08-06-14-15-50+0800__CAM_BACK__1533536795137005.jpg\n",
            "samples/CAM_BACK/n013-2018-08-06-14-15-50+0800__CAM_BACK__1533536800137005.jpg\n",
            "samples/CAM_BACK/n013-2018-08-06-14-15-50+0800__CAM_BACK__1533536805187005.jpg\n",
            "samples/CAM_BACK/n013-2018-08-06-14-15-50+0800__CAM_BACK__1533536816937005.jpg\n",
            "samples/CAM_BACK/n013-2018-08-06-14-15-50+0800__CAM_BACK__1533536820887008.jpg\n",
            "rsync error: received SIGINT, SIGTERM, or SIGHUP (code 20) at rsync.c(716) [sender=3.2.7]\n",
            "rsync error: received SIGUSR1 (code 19) at main.c(1613) [generator=3.2.7]\n",
            "sending incremental file list\n",
            "rsync: [sender] change_dir \"/content/temp_val_images/samples/CAM_FRONT\" failed: No such file or directory (2)\n",
            "rsync: [sender] change_dir \"/content/temp_val_images/samples/CAM_FRONT_LEFT\" failed: No such file or directory (2)\n",
            "rsync: [sender] change_dir \"/content/temp_val_images/samples/CAM_FRONT_RIGHT\" failed: No such file or directory (2)\n",
            "./\n",
            "\n",
            "sent 117,208 bytes  received 19 bytes  234,454.00 bytes/sec\n",
            "total size is 265,422,501  speedup is 2,264.18\n",
            "rsync error: some files/attrs were not transferred (see previous errors) (code 23) at main.c(1338) [sender=3.2.7]\n"
          ]
        }
      ]
    },
    {
      "cell_type": "code",
      "source": [
        "# copy the train image to directory expected by yolo\n",
        "!xargs -a train.txt -P8 -I{} cp \"/content/{}\" /content/train/image/"
      ],
      "metadata": {
        "id": "IjXD2rRkixcr"
      },
      "execution_count": 49,
      "outputs": []
    },
    {
      "cell_type": "code",
      "source": [
        "# NOTE: rsync alternative. it does the same thing with the cp\n",
        "# # not only the image, this rsync will copy the (parent) directory structure as well (the samples/CAM_BACK) which is what we don't want\n",
        "# !rsync -av --files-from=train.txt /content/ /content/temp_train_images/\n",
        "# # so we do rsync once again, from the temp_val_images to val/image, which is the final directory\n",
        "# !rsync -av /content/temp_train_images/samples/CAM_BACK/ /content/temp_train_images/samples/CAM_BACK_LEFT/ /content/temp_train_images/samples/CAM_BACK_RIGHT/ /content/temp_train_images/samples/CAM_FRONT/ /content/temp_train_images/samples/CAM_FRONT_LEFT/ /content/temp_train_images/samples/CAM_FRONT_RIGHT/ /content/train/image/\n",
        "# !rm -rf /content/temp_train_images/ # remove, dont need anymore"
      ],
      "metadata": {
        "id": "SksBSZuKB7WB"
      },
      "execution_count": 52,
      "outputs": []
    },
    {
      "cell_type": "code",
      "source": [
        "train_df['filename'].head()"
      ],
      "metadata": {
        "colab": {
          "base_uri": "https://localhost:8080/",
          "height": 241
        },
        "id": "VgnYFY6ILXtU",
        "outputId": "c12ad747-2d2a-43c4-eb00-9b620259926b"
      },
      "execution_count": 53,
      "outputs": [
        {
          "output_type": "execute_result",
          "data": {
            "text/plain": [
              "0    samples/CAM_BACK/n010-2018-08-27-16-15-24+0800...\n",
              "1    samples/CAM_BACK_LEFT/n009-2018-09-12-09-59-51...\n",
              "2    samples/CAM_BACK/n003-2018-01-08-11-30-34+0800...\n",
              "3    samples/CAM_FRONT_RIGHT/n008-2018-05-24-12-02-...\n",
              "4    samples/CAM_FRONT_RIGHT/n014-2018-06-20-21-35-...\n",
              "Name: filename, dtype: object"
            ],
            "text/html": [
              "<div>\n",
              "<style scoped>\n",
              "    .dataframe tbody tr th:only-of-type {\n",
              "        vertical-align: middle;\n",
              "    }\n",
              "\n",
              "    .dataframe tbody tr th {\n",
              "        vertical-align: top;\n",
              "    }\n",
              "\n",
              "    .dataframe thead th {\n",
              "        text-align: right;\n",
              "    }\n",
              "</style>\n",
              "<table border=\"1\" class=\"dataframe\">\n",
              "  <thead>\n",
              "    <tr style=\"text-align: right;\">\n",
              "      <th></th>\n",
              "      <th>filename</th>\n",
              "    </tr>\n",
              "  </thead>\n",
              "  <tbody>\n",
              "    <tr>\n",
              "      <th>0</th>\n",
              "      <td>samples/CAM_BACK/n010-2018-08-27-16-15-24+0800...</td>\n",
              "    </tr>\n",
              "    <tr>\n",
              "      <th>1</th>\n",
              "      <td>samples/CAM_BACK_LEFT/n009-2018-09-12-09-59-51...</td>\n",
              "    </tr>\n",
              "    <tr>\n",
              "      <th>2</th>\n",
              "      <td>samples/CAM_BACK/n003-2018-01-08-11-30-34+0800...</td>\n",
              "    </tr>\n",
              "    <tr>\n",
              "      <th>3</th>\n",
              "      <td>samples/CAM_FRONT_RIGHT/n008-2018-05-24-12-02-...</td>\n",
              "    </tr>\n",
              "    <tr>\n",
              "      <th>4</th>\n",
              "      <td>samples/CAM_FRONT_RIGHT/n014-2018-06-20-21-35-...</td>\n",
              "    </tr>\n",
              "  </tbody>\n",
              "</table>\n",
              "</div><br><label><b>dtype:</b> object</label>"
            ]
          },
          "metadata": {},
          "execution_count": 53
        }
      ]
    },
    {
      "cell_type": "code",
      "source": [
        "convert_to_yolo_format('/content/', 'train', train_df)"
      ],
      "metadata": {
        "id": "X3OF81RRxuQP"
      },
      "execution_count": null,
      "outputs": []
    },
    {
      "cell_type": "code",
      "source": [
        "convert_to_yolo_format('/content/', 'val', val_df)"
      ],
      "metadata": {
        "id": "38saenkmMrYH"
      },
      "execution_count": null,
      "outputs": []
    },
    {
      "cell_type": "code",
      "source": [
        "!ls -1 /content/train/image/ | wc -l"
      ],
      "metadata": {
        "colab": {
          "base_uri": "https://localhost:8080/"
        },
        "id": "do5XNsKxSZgF",
        "outputId": "b7925980-40b8-4488-87bd-f2acda227279"
      },
      "execution_count": 50,
      "outputs": [
        {
          "output_type": "stream",
          "name": "stdout",
          "text": [
            "60668\n"
          ]
        }
      ]
    },
    {
      "cell_type": "code",
      "source": [
        "!ls -1 /content/train/label/ | wc -l"
      ],
      "metadata": {
        "id": "7VxYfx-WSwx3",
        "outputId": "67b70241-c194-4855-8900-eeb991588f62",
        "colab": {
          "base_uri": "https://localhost:8080/"
        }
      },
      "execution_count": 51,
      "outputs": [
        {
          "output_type": "stream",
          "name": "stdout",
          "text": [
            "60668\n"
          ]
        }
      ]
    }
  ]
}